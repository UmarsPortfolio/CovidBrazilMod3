{
 "cells": [
  {
   "cell_type": "code",
   "execution_count": null,
   "metadata": {},
   "outputs": [],
   "source": [
    "df2 = df.copy()\n",
    "\n",
    "semi_indexes = df2.loc[df2['adm_status'] == 'semi_int',:].index.to_list()\n",
    "\n",
    "df_train = df2.drop(semi_indexes,axis=0)\n",
    "\n",
    "X = df_train.drop('adm_status',axis=1)\n",
    "y = df_train['adm_status']\n",
    "\n",
    "X_test = df2.loc[semi_indexes,:].drop('adm_status',axis=1)\n",
    "\n",
    "weight_dict = {\n",
    "    'not_adm': 1,\n",
    "    'reg_ward': 10,\n",
    "    'intensive': 70\n",
    "}\n",
    "\n",
    "clf = LogisticRegression(C=1000,max_iter=100,solver='liblinear',class_weight=weight_dict)\n",
    "\n",
    "clf.fit(X,y)\n",
    "\n",
    "y_predict = clf.predict(X_test)\n",
    "\n",
    "df2.loc[semi_indexes,'adm_status'] = y_predict"
   ]
  }
 ],
 "metadata": {
  "kernelspec": {
   "display_name": "Python 3",
   "language": "python",
   "name": "python3"
  },
  "language_info": {
   "codemirror_mode": {
    "name": "ipython",
    "version": 3
   },
   "file_extension": ".py",
   "mimetype": "text/x-python",
   "name": "python",
   "nbconvert_exporter": "python",
   "pygments_lexer": "ipython3",
   "version": "3.7.4"
  },
  "toc": {
   "base_numbering": 1,
   "nav_menu": {},
   "number_sections": true,
   "sideBar": true,
   "skip_h1_title": false,
   "title_cell": "Table of Contents",
   "title_sidebar": "Contents",
   "toc_cell": false,
   "toc_position": {},
   "toc_section_display": true,
   "toc_window_display": false
  }
 },
 "nbformat": 4,
 "nbformat_minor": 4
}
