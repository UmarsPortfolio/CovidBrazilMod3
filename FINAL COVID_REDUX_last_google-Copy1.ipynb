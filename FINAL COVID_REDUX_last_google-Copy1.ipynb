{
 "cells": [
  {
   "cell_type": "markdown",
   "metadata": {
    "colab_type": "text",
    "id": "view-in-github"
   },
   "source": [
    "<a href=\"https://colab.research.google.com/github/thekhan314/CovidBrazilMod3/blob/master/COVID_REDUX_last_google.ipynb\" target=\"_parent\"><img src=\"https://colab.research.google.com/assets/colab-badge.svg\" alt=\"Open In Colab\"/></a>"
   ]
  },
  {
   "cell_type": "markdown",
   "metadata": {
    "colab_type": "text",
    "id": "ighnWLQIfPlU"
   },
   "source": [
    "# Libraries and Functions\n"
   ]
  },
  {
   "cell_type": "code",
   "execution_count": null,
   "metadata": {},
   "outputs": [],
   "source": [
    "import sklearn"
   ]
  },
  {
   "cell_type": "code",
   "execution_count": null,
   "metadata": {},
   "outputs": [],
   "source": [
    "print('The scikit-learn version is {}.'.format(sklearn.__version__))"
   ]
  },
  {
   "cell_type": "code",
   "execution_count": 1,
   "metadata": {
    "colab": {
     "base_uri": "https://localhost:8080/",
     "height": 156
    },
    "colab_type": "code",
    "id": "BV25sOn1exK8",
    "outputId": "16af65c8-0f12-45f7-9ec3-46464bccfdf7"
   },
   "outputs": [
    {
     "name": "stderr",
     "output_type": "stream",
     "text": [
      "C:\\Users\\umark\\Anaconda3\\lib\\site-packages\\ipykernel_launcher.py:36: FutureWarning: Passing a negative integer is deprecated in version 1.0 and will not be supported in future version. Instead, use None to not limit the column width.\n"
     ]
    }
   ],
   "source": [
    "#from khantools import *\n",
    "import pandas as pd\n",
    "import numpy as np\n",
    "\n",
    "import pprint as pp\n",
    "import matplotlib.pyplot as plt\n",
    "import seaborn as sns\n",
    "import operator as operator\n",
    "\n",
    "from sklearn.preprocessing import StandardScaler\n",
    "from sklearn.pipeline import Pipeline\n",
    "from sklearn.model_selection import train_test_split\n",
    "from sklearn.preprocessing import label_binarize\n",
    "\n",
    "from sklearn.metrics import classification_report\n",
    "from sklearn.metrics import roc_curve, auc\n",
    "from sklearn.metrics import confusion_matrix\n",
    "from sklearn.metrics import plot_confusion_matrix\n",
    "from imblearn.over_sampling import SMOTE\n",
    "from sklearn.model_selection import GridSearchCV\n",
    "from sklearn.model_selection import cross_val_score\n",
    "from sklearn.metrics import make_scorer\n",
    "from sklearn.metrics import recall_score\n",
    "from sklearn.metrics import f1_score\n",
    "\n",
    "from sklearn.linear_model import LinearRegression, LogisticRegression, Lasso, Ridge\n",
    "from sklearn.tree import DecisionTreeClassifier\n",
    "from sklearn.ensemble import RandomForestClassifier\n",
    "from sklearn.multiclass import OneVsRestClassifier\n",
    "from sklearn.svm import SVC\n",
    "\n",
    "\n",
    "pd.set_option('display.max_rows', None)\n",
    "pd.set_option('display.max_columns', None)\n",
    "pd.set_option('display.width', None)\n",
    "pd.set_option('display.max_colwidth', -1)"
   ]
  },
  {
   "cell_type": "code",
   "execution_count": null,
   "metadata": {
    "colab": {},
    "colab_type": "code",
    "id": "wpPBOh_hfHpm"
   },
   "outputs": [],
   "source": [
    "# Evaluate empty columns\n",
    "def cols_with_data(dataframe,threshold,plot=False,axis=0):\n",
    "    ''' returns a series with all columns that are filled to at least threshold percentage or higher'''\n",
    "    \n",
    "    counts = dataframe.count(axis=axis).sort_values()\n",
    "    \n",
    "    if axis == 0: \n",
    "        counts = counts/len(dataframe)\n",
    "    else:\n",
    "        counts = counts/len(dataframe.columns)\n",
    "        \n",
    "    non_zero_cols = counts[counts >= threshold ]\n",
    "    \n",
    "    if plot == True:\n",
    "        fig,ax = plt.subplots()\n",
    "        ax.barh(non_zero_cols.index,non_zero_cols)\n",
    "        fig.set_size_inches(6,9)\n",
    "        fig.show()\n",
    "        print(\"Features left:{}\".format(len(non_zero_cols)))\n",
    "    return non_zero_cols\n",
    "\n",
    "def value_counts (df,value, oper):\n",
    "    ''' takes in a datframe of float values, returns count of zero values '''\n",
    "    dict = {}\n",
    "    \n",
    "    ops = {'>': operator.gt,\n",
    "           '<': operator.lt,\n",
    "           '>=': operator.ge,\n",
    "           '<=': operator.le,\n",
    "           '=': operator.eq}\n",
    "    \n",
    "    for col in df.columns:\n",
    "        matches = sum(ops[oper](df[col],value))\n",
    "        \n",
    "        dict[col] = matches\n",
    "    \n",
    "    df = pd.Series(dict)\n",
    "    return df\n"
   ]
  },
  {
   "cell_type": "markdown",
   "metadata": {
    "colab_type": "text",
    "id": "aaNIWYINjgOM"
   },
   "source": [
    "Lets import the data and run a preliminary report"
   ]
  },
  {
   "cell_type": "code",
   "execution_count": null,
   "metadata": {
    "colab": {},
    "colab_type": "code",
    "id": "7Cvx2uDBffji"
   },
   "outputs": [],
   "source": [
    "df = pd.read_excel('dataset.xlsx')\n",
    "report_prelim = report1(df,5)"
   ]
  },
  {
   "cell_type": "markdown",
   "metadata": {
    "colab_type": "text",
    "id": "uZjafpwyfyIi"
   },
   "source": [
    "It appears that the most commonly occuring values aside from the ones that are always there is what appears to be a battery of standard tests. I think it might be a good idea to discard all the rows where these tests were not performed, as they are much too sparse to be of any use to us. Lets keep only rows where standard tests were done, and see if that leaves us with enough data to make a meaningful model."
   ]
  },
  {
   "cell_type": "code",
   "execution_count": null,
   "metadata": {
    "colab": {
     "base_uri": "https://localhost:8080/",
     "height": 34
    },
    "colab_type": "code",
    "id": "ZxPCSsswfxLA",
    "outputId": "07f327f2-54c4-4802-a99c-146ab6292256"
   },
   "outputs": [],
   "source": [
    "df = df[df['Parainfluenza 2'].notnull()]\n",
    "report_post_trim = report1(df,6)\n",
    "print(len(df))\n",
    "#display(report_post_trim)"
   ]
  },
  {
   "cell_type": "markdown",
   "metadata": {
    "colab_type": "text",
    "id": "bazru4C5f6U-"
   },
   "source": [
    "# Data Cleanup and sorting"
   ]
  },
  {
   "cell_type": "markdown",
   "metadata": {
    "colab_type": "text",
    "id": "CG3Ok1wQhlX9"
   },
   "source": [
    "## Rename & Clean Columns"
   ]
  },
  {
   "cell_type": "code",
   "execution_count": null,
   "metadata": {
    "colab": {},
    "colab_type": "code",
    "id": "TYbUD8Gwf-vX"
   },
   "outputs": [],
   "source": [
    "# Lets change the names of some columns to something easier to work with\n",
    "new_names = {\n",
    "    'Patient addmited to intensive care unit (1=yes, 0=no)':'intensive',\n",
    "    'Patient addmited to semi-intensive unit (1=yes, 0=no)':'semi_int',\n",
    "    'Patient addmited to regular ward (1=yes, 0=no)':'reg_ward',\n",
    "    'SARS-Cov-2 exam result':'sars_cov2',\n",
    "    'Patient age quantile':'age_quant',\n",
    "    'Patient ID':'patient_id'\n",
    "}\n",
    "\n",
    "df = df.rename(columns=new_names)\n",
    "df.set_index(keys='patient_id',inplace=True)\n",
    "\n",
    "# convert age_quant to float\n",
    "\n",
    "df['age_quant'] = df['age_quant'].astype(float)\n",
    "#delete empty columns\n",
    "\n",
    "empty_cols = list(report_post_trim[report_post_trim['% empty'] == 100.0].index)\n",
    "df = df.drop(columns=empty_cols)\n",
    "\n"
   ]
  },
  {
   "cell_type": "markdown",
   "metadata": {
    "colab_type": "text",
    "id": "A3eeoNwmii-C"
   },
   "source": [
    "## Reduce features"
   ]
  },
  {
   "cell_type": "code",
   "execution_count": null,
   "metadata": {
    "colab": {},
    "colab_type": "code",
    "id": "C8VNoWlyjWQS"
   },
   "outputs": [],
   "source": [
    "# all data: filled values in each column \n",
    "col_fill = cols_with_data(df,threshold=0.03)\n",
    "\n",
    "meaty_cols = list(col_fill[col_fill > 0.1].index)\n",
    "meaty_cols.append('Lactic Dehydrogenase')\n",
    "\n",
    "df = df[meaty_cols]"
   ]
  },
  {
   "cell_type": "markdown",
   "metadata": {
    "colab_type": "text",
    "id": "rtjm78KuhI7H"
   },
   "source": [
    "## Subset features"
   ]
  },
  {
   "cell_type": "code",
   "execution_count": null,
   "metadata": {
    "colab": {},
    "colab_type": "code",
    "id": "6FVrXuMLgLP6"
   },
   "outputs": [],
   "source": [
    "df_types = df.dtypes\n",
    "\n",
    "float_features = list(df_types[df_types == 'float64'].index)\n",
    "obj_features = list(df_types[df_types == 'object'].index)\n",
    "\n",
    "high_imp= ['Lactic Dehydrogenase','Lymphocytes','Proteina C reativa mg/dL']\n",
    "admission_features = ['intensive','semi_int','reg_ward']\n",
    "\n",
    "\n",
    "\n",
    "for col in admission_features:\n",
    "    df[col] = df[col].astype(float)"
   ]
  },
  {
   "cell_type": "markdown",
   "metadata": {
    "colab_type": "text",
    "id": "LdMyeAeuhgpa"
   },
   "source": [
    "## Convert Categoricals"
   ]
  },
  {
   "cell_type": "code",
   "execution_count": null,
   "metadata": {
    "colab": {
     "base_uri": "https://localhost:8080/",
     "height": 771
    },
    "colab_type": "code",
    "id": "WTKBUP2vRRZL",
    "outputId": "5d461ec7-ff41-45db-9203-918f8d7b9d8d"
   },
   "outputs": [],
   "source": [
    "report2 = report1(df[obj_features],3).sort_values('unique values')\n",
    "display(report2)"
   ]
  },
  {
   "cell_type": "markdown",
   "metadata": {
    "colab_type": "text",
    "id": "oue1RO1LRRZR"
   },
   "source": [
    "Lets also drop all the unary features because it seems they are all basically negative and dont seem to add much information.\n",
    "\n",
    "Lets convert the binary categoricals to floats. \n",
    "\n",
    "For tests that have a 'not done' value, I will treat 'not done' as negative, since its safe to assume if t he test wasnt done the doctor was expecting a negative anyways. \n",
    "\n",
    "Urine Aspect color and crystals I will drop. They dont sound too important, and dont comprise alot of rows.I will also drop standard tests, as I feel they will only add noise.  \n",
    "\n",
    "Urine PH and Urine Leukocytes should be converted to float\n",
    "\n"
   ]
  },
  {
   "cell_type": "code",
   "execution_count": null,
   "metadata": {
    "colab": {
     "base_uri": "https://localhost:8080/",
     "height": 1000
    },
    "colab_type": "code",
    "id": "gqMxVfe8gLb_",
    "outputId": "782b839a-967b-4672-ab53-39c32dde4918"
   },
   "outputs": [],
   "source": [
    "binary_conversions = list(report2[report2['unique values'] == 2].index)\n",
    "\n",
    "for col in binary_conversions:\n",
    "    df[col] = df[col].replace(['not_detected','negative','absent','normal'],0)\n",
    "    df[col] = df[col].replace(['detected','positive','not_done'],1)\n",
    "    df[col] = df[col].astype(float)\n",
    "\n",
    "df['sars_cov2'] = df['sars_cov2'].replace(['negative'],0)\n",
    "df['sars_cov2'] = df['sars_cov2'].replace(['positive'],1)\n",
    "df.drop('Parainfluenza 2',axis=1,inplace=True)\n",
    "\n",
    "report3 = report1(df,6)\n",
    "\n",
    "display(report3)"
   ]
  },
  {
   "cell_type": "markdown",
   "metadata": {
    "colab_type": "text",
    "id": "Bk-4fJtmoSAg"
   },
   "source": [
    "## Fill Empties"
   ]
  },
  {
   "cell_type": "code",
   "execution_count": null,
   "metadata": {
    "colab": {},
    "colab_type": "code",
    "id": "6oPuHpP7gLjz"
   },
   "outputs": [],
   "source": [
    "full_cols = cols_with_data(df,1)\n",
    "full_feats = list(full_cols.index)\n",
    "\n",
    "unfull_feats = list(df.drop(full_feats,axis=1).columns)\n"
   ]
  },
  {
   "cell_type": "code",
   "execution_count": null,
   "metadata": {
    "colab": {},
    "colab_type": "code",
    "id": "NbDzRIHlRRZp"
   },
   "outputs": [],
   "source": [
    "filled_feats = full_feats.copy()\n",
    "\n",
    "\n",
    "for feature in unfull_feats:\n",
    "    df_vals_present = df.loc[df[feature].notnull()]\n",
    "    \n",
    "    X = df_vals_present[filled_feats]\n",
    "    y = df_vals_present[feature]\n",
    "    \n",
    "    scaler = StandardScaler()\n",
    "    X = scaler.fit_transform(X)\n",
    "    \n",
    "    if feature in float_features:\n",
    "        pipe = Ridge(alpha=0.5)\n",
    "       \n",
    "        \n",
    "    elif feature in obj_features:\n",
    "        \n",
    "        pipe = LogisticRegression(C=1e5, solver='lbfgs',class_weight='balanced',max_iter=10000)\n",
    "        \n",
    "    \n",
    "    pipe.fit(X,y)\n",
    "    \n",
    "    df_predictors = df.loc[df[feature].isna()][filled_feats]\n",
    "    y_hat = pipe.predict(df_predictors)\n",
    "    \n",
    "    df.loc[df[feature].isna(),feature] = y_hat\n",
    "    \n",
    "    filled_feats.append(feature)"
   ]
  },
  {
   "cell_type": "code",
   "execution_count": null,
   "metadata": {
    "colab": {
     "base_uri": "https://localhost:8080/",
     "height": 1000
    },
    "colab_type": "code",
    "id": "FHjyGCusgKqk",
    "outputId": "b4d03426-87ff-4370-8abf-1ca0549809fc",
    "scrolled": true
   },
   "outputs": [],
   "source": [
    "display(report1(df,4))"
   ]
  },
  {
   "cell_type": "markdown",
   "metadata": {
    "colab_type": "text",
    "id": "77MlKX8Ys3y7"
   },
   "source": [
    "## Unified target column"
   ]
  },
  {
   "cell_type": "code",
   "execution_count": null,
   "metadata": {
    "colab": {},
    "colab_type": "code",
    "id": "qjiStTCMtDIM"
   },
   "outputs": [],
   "source": [
    "for feat in admission_features:\n",
    "    df.loc[df[feat] == 1,'adm_status'] = feat\n",
    "\n",
    "df['adm_status'].fillna(value='not_adm',inplace=True)\n",
    "df = df.drop(columns=admission_features)"
   ]
  },
  {
   "cell_type": "markdown",
   "metadata": {
    "colab_type": "text",
    "id": "cvmesi0asodb"
   },
   "source": [
    "# Train Classifiers"
   ]
  },
  {
   "cell_type": "code",
   "execution_count": null,
   "metadata": {
    "colab": {
     "base_uri": "https://localhost:8080/",
     "height": 139
    },
    "colab_type": "code",
    "id": "7MbpwNP2ss62",
    "outputId": "1476ea35-5250-4269-9b20-8fab26f308bd"
   },
   "outputs": [],
   "source": [
    "smote = SMOTE()\n",
    "\n",
    "X = df.drop('adm_status',axis=1)\n",
    "scaler = StandardScaler()\n",
    "X = scaler.fit_transform(X)\n",
    "\n",
    "y = df['adm_status']\n",
    "\n",
    "X_train, X_test, y_train, y_test = train_test_split(X,y,  test_size=0.25, random_state=42)\n",
    "\n",
    "X_train_smote, y_train_smote = smote.fit_sample(X_train, y_train) "
   ]
  },
  {
   "cell_type": "markdown",
   "metadata": {
    "colab_type": "text",
    "id": "Rg5TAnsy88B3"
   },
   "source": []
  },
  {
   "cell_type": "markdown",
   "metadata": {
    "colab_type": "text",
    "id": "-Ha_p2cFthfQ"
   },
   "source": [
    "## Baseline Model (Logistic Regression)"
   ]
  },
  {
   "cell_type": "code",
   "execution_count": null,
   "metadata": {
    "colab": {},
    "colab_type": "code",
    "id": "W4Af7EFg3Zwt"
   },
   "outputs": [],
   "source": [
    "clf = LogisticRegression()\n",
    "\n",
    "params = {\n",
    "    'C': [1e3,1e5,1e10,1e20],\n",
    "    'solver':['lbfgs', 'liblinear'],\n",
    "    'max_iter':[10,100],\n",
    "}\n",
    "\n",
    "clf = LogisticRegression()\n",
    "\n",
    "gs_base = GridSearchCV(\n",
    "    estimator=clf,\n",
    "    param_grid=params,\n",
    "    cv=5,\n",
    "    n_jobs = -1,\n",
    "    verbose = 1,\n",
    ")\n",
    "\n",
    "gs_base.fit(X_train_smote,y_train_smote)\n",
    "\n",
    "base_clf = gs_base.best_estimator_\n",
    "\n",
    "base_clf.fit(X_train_smote,y_train_smote)\n",
    "\n",
    "base_cf_plot = plot_confusion_matrix(base_clfclf,X_test,y_test,ax=ax,normalize='true')"
   ]
  },
  {
   "cell_type": "markdown",
   "metadata": {
    "colab_type": "text",
    "id": "3ltFe7Ky-vdE"
   },
   "source": []
  },
  {
   "cell_type": "markdown",
   "metadata": {},
   "source": [
    "## binarized"
   ]
  },
  {
   "cell_type": "code",
   "execution_count": null,
   "metadata": {
    "colab": {
     "base_uri": "https://localhost:8080/",
     "height": 139
    },
    "colab_type": "code",
    "id": "AKrO4UyKG6H4",
    "outputId": "5908545b-00e9-4e18-88cd-0153d9932d54"
   },
   "outputs": [],
   "source": [
    "\n",
    "smote = SMOTE()\n",
    "\n",
    "X = df.drop('adm_status',axis=1)\n",
    "scaler = StandardScaler()\n",
    "X = scaler.fit_transform(X)\n",
    "label_list = df['adm_status'].value_counts().index.to_list()\n",
    "y = label_binarize(df['adm_status'],label_list)\n",
    "\n",
    "X_train, X_test, y_train, y_test = train_test_split(X,y,  test_size=0.25, random_state=42)\n",
    "\n",
    "X_train_resampled, y_train_resampled = smote.fit_sample(X_train, y_train) "
   ]
  },
  {
   "cell_type": "code",
   "execution_count": null,
   "metadata": {
    "colab": {
     "base_uri": "https://localhost:8080/",
     "height": 1000
    },
    "colab_type": "code",
    "id": "r0ldlMJwLZKs",
    "outputId": "09c7af3f-d3a5-4d7a-aed5-e00a9635f768",
    "scrolled": true
   },
   "outputs": [],
   "source": [
    "estimator = LogisticRegression(C=1000, solver='liblinear',multi_class='ovr',max_iter=100)\n",
    "\n",
    "clf = OneVsRestClassifier(estimator)\n",
    "\n",
    "clf.fit(X_train_resampled,y_train_resampled)\n",
    "\n",
    "y_score = clf.decision_function(X_test)\n",
    "y_pred = clf.predict(X_test)\n",
    "n_classes = y.shape[1]\n",
    "\n",
    "fpr = dict()\n",
    "tpr = dict()\n",
    "roc_auc = dict()\n",
    "for i in range(n_classes):\n",
    "    fpr[i], tpr[i], _ = roc_curve(y_test[:, i], y_score[:, i])\n",
    "    roc_auc[i] = auc(fpr[i], tpr[i])\n",
    "\n",
    "fig,ax = plt.subplots(len(label_list),figsize=(20,40))\n",
    "\n",
    "for i in range(0,len(label_list)):\n",
    "    ax[i].plot(fpr[i], tpr[i], color='darkorange',\n",
    "            lw=2, label='ROC curve (area = %0.2f)' % roc_auc[2])\n",
    "    ax[i].plot([0, 1], [0, 1], color='navy', lw=2, linestyle='--')\n",
    "    ax[i].set_xlim([0.0, 1.0])\n",
    "    ax[i].set_ylim([0.0, 1.05])\n",
    "    ax[i].set_xlabel('False Positive Rate')\n",
    "    ax[i].set_ylabel('True Positive Rate')\n",
    "    ax[i].set_title(label_list[i])\n",
    "    ax[i].legend(loc=\"lower right\")\n",
    "    \n",
    "    print(label_list[i], classification_report(y_test[:,i],y_pred[:,i]), auc(fpr[i],tpr[i]))\n",
    "    "
   ]
  },
  {
   "cell_type": "code",
   "execution_count": null,
   "metadata": {
    "colab": {
     "base_uri": "https://localhost:8080/",
     "height": 606
    },
    "colab_type": "code",
    "id": "P8TaQiy0VnGM",
    "outputId": "4b7574d1-b93b-4154-9379-482c61c8a072"
   },
   "outputs": [],
   "source": [
    "from sklearn.metrics import plot_confusion_matrix\n",
    "class_labels = y_train.value_counts().index.to_list()\n",
    "fig,ax = plt.subplots(figsize=(20,10))\n",
    "\n",
    "cf_plot = plot_confusion_matrix(clf,X_test,y_test,ax=ax,normalize='true')\n",
    "\n"
   ]
  },
  {
   "cell_type": "code",
   "execution_count": null,
   "metadata": {
    "colab": {},
    "colab_type": "code",
    "id": "uCoYyHQLgIe2"
   },
   "outputs": [],
   "source": []
  },
  {
   "cell_type": "markdown",
   "metadata": {},
   "source": [
    "# Relabel and Retry"
   ]
  },
  {
   "cell_type": "code",
   "execution_count": null,
   "metadata": {},
   "outputs": [],
   "source": [
    "df2 = df.copy()\n",
    "\n",
    "semi_indexes = df2.loc[df2['adm_status'] == 'semi_int',:].index.to_list()\n",
    "\n",
    "df_train = df2.drop(semi_indexes,axis=0)\n",
    "\n",
    "X = df_train.drop('adm_status',axis=1)\n",
    "y = df_train['adm_status']\n",
    "\n",
    "X_test = df2.loc[semi_indexes,:].drop('adm_status',axis=1)\n",
    "\n"
   ]
  },
  {
   "cell_type": "code",
   "execution_count": null,
   "metadata": {},
   "outputs": [],
   "source": [
    "len(semi_indexes)"
   ]
  },
  {
   "cell_type": "code",
   "execution_count": null,
   "metadata": {},
   "outputs": [],
   "source": [
    "weight_dict = {\n",
    "    'not_adm': 1,\n",
    "    'reg_ward': 10,\n",
    "    'intensive': 70\n",
    "}\n",
    "\n",
    "clf = LogisticRegression(C=1000,max_iter=100,solver='liblinear',class_weight=weight_dict)\n",
    "\n",
    "clf.fit(X,y)\n",
    "\n",
    "y_predict = clf.predict(X_test)\n",
    "\n",
    "df2.loc[semi_indexes,'adm_status'] = y_predict"
   ]
  },
  {
   "cell_type": "code",
   "execution_count": null,
   "metadata": {
    "scrolled": true
   },
   "outputs": [],
   "source": [
    "df2['adm_status'].value_counts()"
   ]
  },
  {
   "cell_type": "code",
   "execution_count": null,
   "metadata": {},
   "outputs": [],
   "source": [
    "df['adm_status'].value_counts()"
   ]
  },
  {
   "cell_type": "markdown",
   "metadata": {},
   "source": [
    "# retry"
   ]
  },
  {
   "cell_type": "code",
   "execution_count": null,
   "metadata": {},
   "outputs": [],
   "source": [
    "smote = SMOTE()\n",
    "\n",
    "X = df2.drop('adm_status',axis=1)\n",
    "scaler = StandardScaler()\n",
    "X = scaler.fit_transform(X)\n",
    "\n",
    "y = df2['adm_status']\n",
    "\n",
    "X_train, X_test, y_train, y_test = train_test_split(X,y,  test_size=0.25, random_state=42)\n",
    "X_train_resampled, y_train_resampled = smote.fit_sample(X_train, y_train) "
   ]
  },
  {
   "cell_type": "code",
   "execution_count": null,
   "metadata": {},
   "outputs": [],
   "source": [
    "params = {\n",
    "    'C': [1e3,1e5,1e10,1e20],\n",
    "    'solver':['lbfgs', 'liblinear'],\n",
    "    'max_iter':[10,100,1000],\n",
    "}\n",
    "\n",
    "scorer = make_scorer(recall_score, average = 'weighted')\n",
    "gs_logistic = GridSearchCV(\n",
    "    estimator=clf,\n",
    "    param_grid=params,\n",
    "    cv=5,\n",
    "    n_jobs = -1,\n",
    "    verbose = 1,\n",
    "    scoring = scorer\n",
    ")\n",
    "gs_logistic.fit(X_train_resampled,y_train_resampled)\n",
    "\n",
    "gs_logistic.best_score_\n"
   ]
  },
  {
   "cell_type": "code",
   "execution_count": null,
   "metadata": {},
   "outputs": [],
   "source": [
    "gs_logistic.best_score_"
   ]
  },
  {
   "cell_type": "code",
   "execution_count": null,
   "metadata": {
    "scrolled": true
   },
   "outputs": [],
   "source": [
    "clf = gs_logistic.best_estimator_\n",
    "\n",
    "clf.fit(X_train_resampled,y_train_resampled)\n",
    "\n",
    "y_pred = clf.predict(X_test)\n",
    "\n",
    "class_report_1 = classification_report(y_test,y_pred)\n",
    "\n",
    "print(class_report_1)"
   ]
  },
  {
   "cell_type": "markdown",
   "metadata": {},
   "source": [
    "# Relabel 2"
   ]
  },
  {
   "cell_type": "code",
   "execution_count": null,
   "metadata": {},
   "outputs": [],
   "source": [
    "print(y.value_counts())"
   ]
  },
  {
   "cell_type": "code",
   "execution_count": null,
   "metadata": {},
   "outputs": [],
   "source": [
    "weights_dict = [{\n",
    "    'not_adm':1,\n",
    "    'reg_ward':20,\n",
    "    'intensive':60\n",
    "},{\n",
    "    'not_adm':1,\n",
    "    'reg_ward':15,\n",
    "    'intensive':50\n",
    "},{\n",
    "    'not_adm':1,\n",
    "    'reg_ward':30,\n",
    "    'intensive':60\n",
    "}\n",
    "]"
   ]
  },
  {
   "cell_type": "code",
   "execution_count": null,
   "metadata": {},
   "outputs": [],
   "source": [
    "clf = LogisticRegression()\n",
    "\n",
    "\n",
    "params = {\n",
    "    'C': [1e3,1e5,1e10,1e20],\n",
    "    'solver':['lbfgs', 'liblinear'],\n",
    "    'max_iter':[10,100,1000],\n",
    "    'class_weight':weights_dict\n",
    "}\n",
    "\n",
    "scorer = make_scorer(recall_score, average = 'weighted')\n",
    "gs_logistic = GridSearchCV(\n",
    "    estimator=clf,\n",
    "    param_grid=params,\n",
    "    cv=5,\n",
    "    n_jobs = -1,\n",
    "    verbose = 1,\n",
    "    scoring = scorer\n",
    ")\n",
    "gs_logistic.fit(X_train_resampled,y_train_resampled)\n",
    "\n",
    "gs_logistic.best_score_\n",
    "gs_logistic.best_params_"
   ]
  },
  {
   "cell_type": "code",
   "execution_count": null,
   "metadata": {},
   "outputs": [],
   "source": [
    "gs_logistic.best_score_"
   ]
  },
  {
   "cell_type": "code",
   "execution_count": null,
   "metadata": {
    "scrolled": true
   },
   "outputs": [],
   "source": [
    "clf = gs_logistic.best_estimator_\n",
    "\n",
    "clf.fit(X_train_resampled,y_train_resampled)\n",
    "\n",
    "y_pred = clf.predict(X_test)\n",
    "\n",
    "class_report_1 = classification_report(y_test,y_pred)\n",
    "\n",
    "print(class_report_1)"
   ]
  },
  {
   "cell_type": "code",
   "execution_count": null,
   "metadata": {
    "colab": {
     "base_uri": "https://localhost:8080/",
     "height": 136
    },
    "colab_type": "code",
    "id": "NDhiSw9aHldD",
    "outputId": "84fa1f2a-17d8-4963-b51a-af143d2e6e0e"
   },
   "outputs": [],
   "source": []
  },
  {
   "cell_type": "code",
   "execution_count": null,
   "metadata": {
    "colab": {
     "base_uri": "https://localhost:8080/",
     "height": 136
    },
    "colab_type": "code",
    "id": "NDhiSw9aHldD",
    "outputId": "84fa1f2a-17d8-4963-b51a-af143d2e6e0e"
   },
   "outputs": [],
   "source": []
  },
  {
   "cell_type": "code",
   "execution_count": null,
   "metadata": {},
   "outputs": [],
   "source": [
    "weights_dict = [{\n",
    "    'not_adm':1,\n",
    "    'reg_ward':10,\n",
    "    'semi_int':100,\n",
    "    'intensive':200\n",
    "},{\n",
    "    'not_adm':1,\n",
    "    'reg_ward':25,\n",
    "    'semi_int':200,\n",
    "    'intensive':500\n",
    "},{\n",
    "    'not_adm':1,\n",
    "    'reg_ward':50,\n",
    "    'semi_int':400,\n",
    "    'intensive':750\n",
    "}\n",
    "]"
   ]
  },
  {
   "cell_type": "markdown",
   "metadata": {},
   "source": [
    "## Logistic Regresison"
   ]
  },
  {
   "cell_type": "markdown",
   "metadata": {
    "colab_type": "text",
    "id": "AoQeb04RUZsD"
   },
   "source": [
    "## K Nearest Neighbors"
   ]
  },
  {
   "cell_type": "code",
   "execution_count": null,
   "metadata": {
    "colab": {
     "base_uri": "https://localhost:8080/",
     "height": 139
    },
    "colab_type": "code",
    "id": "Ysir-iBWUdrb",
    "outputId": "646d70a8-c0df-4c81-b783-914e8105e981"
   },
   "outputs": [],
   "source": [
    "smote = SMOTE()\n",
    "df = df2.copy()\n",
    "X = df.drop('adm_status',axis=1)\n",
    "scaler = StandardScaler()\n",
    "X = scaler.fit_transform(X)\n",
    "y = df['adm_status']\n",
    "\n",
    "X_train, X_test, y_train, y_test = train_test_split(X,y,  test_size=0.25, random_state=42)\n",
    "\n",
    "X_train_resampled, y_train_resampled = smote.fit_sample(X_train, y_train) \n"
   ]
  },
  {
   "cell_type": "code",
   "execution_count": null,
   "metadata": {
    "colab": {
     "base_uri": "https://localhost:8080/",
     "height": 204
    },
    "colab_type": "code",
    "id": "23egT6L_X0R6",
    "outputId": "71dd602b-fe3c-46a3-8263-09db35778de0"
   },
   "outputs": [],
   "source": [
    "from sklearn.neighbors import KNeighborsClassifier\n",
    "clf = KNeighborsClassifier()\n",
    "\n",
    "clf.fit(X_train_resampled,y_train_resampled)\n",
    "\n",
    "y_pred = clf.predict(X_test)\n",
    "\n",
    "print(classification_report(y_test,y_pred))"
   ]
  },
  {
   "cell_type": "code",
   "execution_count": null,
   "metadata": {
    "colab": {
     "base_uri": "https://localhost:8080/",
     "height": 102
    },
    "colab_type": "code",
    "id": "Iu82nJxLY5Go",
    "outputId": "6b336bd8-5e48-4473-da33-edc9e2dc17cf"
   },
   "outputs": [],
   "source": [
    "clf = KNeighborsClassifier()\n",
    "\n",
    "params = {\n",
    "    'n_neighbors': [i for i in range(10,20)],\n",
    "    'weights':['uniform','distance'],\n",
    "    'algorithm':['auto', 'ball_tree', 'kd_tree', 'brute'],\n",
    "    'leaf_size':[5,10,15,20,25,30,40],\n",
    "    'p':[i for i in range(1,4)]\n",
    "}\n",
    "\n",
    "scorer = make_scorer(recall_score, average = 'weighted')\n",
    "\n",
    "gs_kneighb_class = GridSearchCV(\n",
    "    estimator=clf,\n",
    "    param_grid=params,\n",
    "    cv=5,\n",
    "    n_jobs = -1,\n",
    "    verbose = 1,\n",
    "    scoring = scorer\n",
    ")\n",
    "\n",
    "gs_kneighb_class.fit(X_train,y_train)\n",
    "\n",
    "gs_kneighb_class.best_score_\n",
    "gs_kneighb_class.best_params_"
   ]
  },
  {
   "cell_type": "code",
   "execution_count": null,
   "metadata": {},
   "outputs": [],
   "source": [
    "clf = gs_kneighb_class.best_estimator_\n",
    "\n",
    "clf.fit(X_train_resampled,y_train_resampled)\n",
    "\n",
    "y_pred = clf.predict(X_test)\n",
    "\n",
    "class_report_1 = classification_report(y_test,y_pred)\n",
    "\n",
    "print(class_report_1)"
   ]
  },
  {
   "cell_type": "markdown",
   "metadata": {
    "colab_type": "text",
    "id": "nu62u6br-yHz"
   },
   "source": [
    "# Decision Tree"
   ]
  },
  {
   "cell_type": "code",
   "execution_count": null,
   "metadata": {
    "colab": {
     "base_uri": "https://localhost:8080/",
     "height": 102
    },
    "colab_type": "code",
    "id": "0Zhj2pRS-xq2",
    "outputId": "a9560b36-bd34-442f-ced7-bb32b6efd9e8"
   },
   "outputs": [],
   "source": [
    "clf = DecisionTreeClassifier()\n",
    "\n",
    "params = {\n",
    "    'criterion': ['entropy','gini'],\n",
    "    'splitter':['best', 'random'],\n",
    "    'max_depth':[i for i in np.linspace(1, 32, 8, endpoint=True)],\n",
    "    'min_samples_split':[i for i in np.linspace(0.1, 1.0, 10, endpoint=True)],\n",
    "    'min_samples_leaf':[i for i in np.linspace(0.1, 0.5, 5, endpoint=True)]\n",
    "}\n",
    "\n",
    "scorer = make_scorer(recall_score, average = 'weighted')\n",
    "\n",
    "gs_dec_tree = GridSearchCV(\n",
    "    estimator=clf,\n",
    "    param_grid=params,\n",
    "    cv=5,\n",
    "    n_jobs = -1,\n",
    "    verbose = 1,\n",
    "    scoring = scorer\n",
    ")\n",
    "gs_dec_tree.fit(X_train,y_train)\n",
    "\n",
    "gs_dec_tree.best_score_\n",
    "gs_dec_tree.best_params_"
   ]
  },
  {
   "cell_type": "code",
   "execution_count": null,
   "metadata": {},
   "outputs": [],
   "source": [
    "clf = gs_dec_tree.best_estimator_\n",
    "\n",
    "clf.fit(X_train_resampled,y_train_resampled)\n",
    "\n",
    "y_pred = clf.predict(X_test)\n",
    "\n",
    "class_report_1 = classification_report(y_test,y_pred)\n",
    "\n",
    "print(class_report_1)"
   ]
  },
  {
   "cell_type": "code",
   "execution_count": null,
   "metadata": {
    "colab": {
     "base_uri": "https://localhost:8080/",
     "height": 34
    },
    "colab_type": "code",
    "id": "EGmGbYqoQ1BV",
    "outputId": "ed90adcb-bd1e-4363-f180-68975dbbce2a"
   },
   "outputs": [],
   "source": [
    "gs_dec_tree.best_score_"
   ]
  },
  {
   "cell_type": "code",
   "execution_count": null,
   "metadata": {
    "colab": {
     "base_uri": "https://localhost:8080/",
     "height": 258
    },
    "colab_type": "code",
    "id": "IkFoc7d6R1ZK",
    "outputId": "e0a5e3aa-9eef-4342-c557-1491f699ae2a"
   },
   "outputs": [],
   "source": [
    "tree_dict = {'criterion': 'entropy',\n",
    " 'max_depth': 1.0,\n",
    " 'min_samples_leaf': 0.1,\n",
    " 'min_samples_split': 0.1,\n",
    " 'splitter': 'best'}\n",
    "\n",
    "tree_clf = DecisionTreeClassifier(criterion='entropy',\n",
    " max_depth=1.0,\n",
    " min_samples_leaf= 0.1,\n",
    " min_samples_split= 0.1,\n",
    " splitter= 'best')\n",
    "\n",
    "tree_clf.fit(X_train_resampled,y_train_resampled)\n",
    "y_score = tree_clf.predict(X_test)\n",
    "\n",
    "class_report_1 = classification_report(y_test,y_score)\n",
    "\n",
    "print(class_report_1)\n"
   ]
  },
  {
   "cell_type": "markdown",
   "metadata": {
    "colab_type": "text",
    "id": "suyLLblH9j8G"
   },
   "source": [
    "## Random Forest"
   ]
  },
  {
   "cell_type": "code",
   "execution_count": null,
   "metadata": {
    "colab": {
     "base_uri": "https://localhost:8080/",
     "height": 204
    },
    "colab_type": "code",
    "id": "FVOdixV3t0FY",
    "outputId": "d5438ce2-fac4-45e5-cec1-944d0b919faa"
   },
   "outputs": [],
   "source": [
    "\n",
    "clf = RandomForestClassifier()\n",
    "clf.fit(X_train_resampled,y_train_resampled)\n",
    " \n",
    "y_score = clf.predict(X_test)\n",
    "\n",
    "class_report_1 = classification_report(y_test,y_score)\n",
    "\n",
    "print(class_report_1)"
   ]
  },
  {
   "cell_type": "markdown",
   "metadata": {
    "colab_type": "text",
    "id": "zKFTWMMa-Y3u"
   },
   "source": [
    "## XGboost"
   ]
  },
  {
   "cell_type": "code",
   "execution_count": null,
   "metadata": {
    "colab": {
     "base_uri": "https://localhost:8080/",
     "height": 204
    },
    "colab_type": "code",
    "id": "KsPmZmshvHg5",
    "outputId": "28ce51ec-821f-4a0e-ca15-4aa66fdd1411"
   },
   "outputs": [],
   "source": [
    "import xgboost as xgb\n",
    "clf = xgb.XGBClassifier( objective='multi:softmax', colsample_bytree = 0.3, learning_rate = 0.1,\n",
    "                max_depth = 5, alpha = 10, n_estimators = 10,scale_pos_weight=15)\n",
    "clf.fit(X_train_resampled,y_train_resampled)\n",
    "\n",
    "y_score = clf.predict(X_test)\n",
    "\n",
    "class_report_1 = classification_report(y_test,y_score)\n",
    "\n",
    "print(class_report_1)"
   ]
  },
  {
   "cell_type": "markdown",
   "metadata": {
    "colab_type": "text",
    "id": "M5GDT1wr-e-i"
   },
   "source": [
    "## Support Vector Machines"
   ]
  },
  {
   "cell_type": "code",
   "execution_count": null,
   "metadata": {
    "colab": {},
    "colab_type": "code",
    "id": "-AB5foDH-sPX"
   },
   "outputs": [],
   "source": [
    "clf = SVC()\n",
    "\n",
    "params = {\n",
    "    'C':[1,100,1000],\n",
    "    'kernel':['linear','poly','rbf','sigmoid'],\n",
    "    'degree': [3],\n",
    "    'gamma':['scale'],\n",
    "    'class_weight':[None,'balanced'],\n",
    "}\n",
    "\n",
    "scorer = make_scorer(recall_score, labels=['intensive','reg_ward'],average = 'macro')\n",
    "gs_svc = GridSearchCV(\n",
    "    estimator=clf,\n",
    "    param_grid=params,\n",
    "    cv=5,\n",
    "    n_jobs = -1,\n",
    "    verbose = 1,\n",
    "    scoring = scorer\n",
    ")\n",
    "gs_svc.fit(X_train_resampled,y_train_resampled)\n",
    "\n",
    "gs_svc.best_score_\n",
    "gs_svc.best_params_"
   ]
  },
  {
   "cell_type": "code",
   "execution_count": null,
   "metadata": {},
   "outputs": [],
   "source": [
    "\n",
    "clf = gs_svc.best_estimator_\n",
    "\n",
    "clf.fit(X_train_resampled,y_train_resampled)\n",
    "\n",
    "y_pred = clf.predict(X_test)\n",
    "\n",
    "class_report_1 = classification_report(y_test,y_pred,output_dict=True)\n",
    "report = pd.DataFrame(class_report_1)\n",
    "print(report)"
   ]
  },
  {
   "cell_type": "code",
   "execution_count": null,
   "metadata": {},
   "outputs": [],
   "source": [
    "gs_svc.best_score_"
   ]
  },
  {
   "cell_type": "code",
   "execution_count": null,
   "metadata": {},
   "outputs": [],
   "source": [
    "gs_svc.cv_results_"
   ]
  },
  {
   "cell_type": "code",
   "execution_count": null,
   "metadata": {},
   "outputs": [],
   "source": [
    "score = recall_score(y_test,y_pred,labels=['intensive'],average = None)\n",
    "print(score)"
   ]
  },
  {
   "cell_type": "code",
   "execution_count": null,
   "metadata": {},
   "outputs": [],
   "source": [
    "clf = SVC()\n",
    "\n",
    "params = {\n",
    "    'C':[1,100,1000],\n",
    "    'kernel':['linear','poly','rbf','sigmoid'],\n",
    "    'degree': [3],\n",
    "    'gamma':['scale'],\n",
    "    'class_weight':[None,'balanced'],\n",
    "}\n",
    "\n",
    "scorer = make_scorer(recall_score, labels=['intensive'],average = 'macro')\n",
    "gs_svc = GridSearchCV(\n",
    "    estimator=clf,\n",
    "    param_grid=params,\n",
    "    cv=5,\n",
    "    n_jobs = -1,\n",
    "    verbose = 1,\n",
    "    scoring = scorer\n",
    ")\n",
    "gs_svc.fit(X_train_resampled,y_train_resampled)\n",
    "\n",
    "gs_svc.best_score_\n",
    "gs_svc.best_params_\n",
    "\n",
    "\n",
    "clf = gs_svc.best_estimator_\n",
    "\n",
    "clf.fit(X_train_resampled,y_train_resampled)\n",
    "\n",
    "y_pred = clf.predict(X_test)\n",
    "\n",
    "class_report_1 = classification_report(y_test,y_pred,output_dict=True)\n",
    "report = pd.DataFrame(class_report_1)\n",
    "print(report)"
   ]
  },
  {
   "cell_type": "code",
   "execution_count": null,
   "metadata": {},
   "outputs": [],
   "source": [
    "gs_svc.best_score_"
   ]
  },
  {
   "cell_type": "code",
   "execution_count": null,
   "metadata": {},
   "outputs": [],
   "source": [
    "clf = SVC()\n",
    "\n",
    "params = {\n",
    "    'C':[1,100,1000],\n",
    "    'kernel':['linear','poly','rbf','sigmoid'],\n",
    "    'degree': [3],\n",
    "    'gamma':['scale'],\n",
    "    'class_weight':[None,'balanced'],\n",
    "}\n",
    "\n",
    "scorer = make_scorer(recall_score, labels=['intensive','reg_ward'],average = 'weighted')\n",
    "gs_svc = GridSearchCV(\n",
    "    estimator=clf,\n",
    "    param_grid=params,\n",
    "    cv=5,\n",
    "    n_jobs = -1,\n",
    "    verbose = 1,\n",
    "    scoring = scorer\n",
    ")\n",
    "gs_svc.fit(X_train_resampled,y_train_resampled)\n",
    "\n",
    "gs_svc.best_score_\n",
    "gs_svc.best_params_\n",
    "\n",
    "\n",
    "clf = gs_svc.best_estimator_\n",
    "\n",
    "clf.fit(X_train_resampled,y_train_resampled)\n",
    "\n",
    "y_pred = clf.predict(X_test)\n",
    "\n",
    "class_report_1 = classification_report(y_test,y_pred,output_dict=True)\n",
    "report = pd.DataFrame(class_report_1)\n",
    "print(report)"
   ]
  },
  {
   "cell_type": "code",
   "execution_count": null,
   "metadata": {},
   "outputs": [],
   "source": [
    "y_pred_prob = clf.predict_proba(X_test)\n",
    "\n",
    "precision, recall, thresholds = precision_recall_curve(y_test,y_pred_[rob])"
   ]
  },
  {
   "cell_type": "code",
   "execution_count": null,
   "metadata": {},
   "outputs": [],
   "source": [
    "smote = SMOTE()\n",
    "\n",
    "X = df2.drop('adm_status',axis=1)\n",
    "scaler = StandardScaler()\n",
    "X = scaler.fit_transform(X)\n",
    "label_list = df2['adm_status'].value_counts().index.to_list()\n",
    "y = label_binarize(df2['adm_status'],label_list)\n",
    "\n",
    "X_train, X_test, y_train, y_test = train_test_split(X,y,  test_size=0.25, random_state=42)\n",
    "\n",
    "X_train_resampled, y_train_resampled = smote.fit_sample(X_train, y_train) "
   ]
  },
  {
   "cell_type": "code",
   "execution_count": null,
   "metadata": {},
   "outputs": [],
   "source": [
    "from sklearn.metrics import precision_recall_curve\n",
    "estimator = clf\n",
    "ovr = OneVsRestClassifier(estimator)\n",
    "\n",
    "ovr.fit(X_train_resampled,y_train_resampled)\n",
    "\n",
    "y_score = ovr.decision_function(X_test)\n",
    "y_pred = ovr.predict(X_test)\n",
    "n_classes = y.shape[1]\n",
    "\n",
    "precision = dict()\n",
    "recall = dict()\n",
    "\n",
    "for i in range(n_classes):\n",
    "    precision[i], recall[i], _ = precision_recall_curve(y_test[:, i], y_score[:, i])\n",
    "\n",
    "fig,ax = plt.subplots(len(label_list),figsize=(20,40))\n",
    "\n",
    "for i in range(0,len(label_list)):\n",
    "    ax[i].plot(recall[i],precision[i], color='darkorange',\n",
    "            lw=2)\n",
    "    \n",
    "    ax[i].set_xlim([0.0, 1.0])\n",
    "    ax[i].set_ylim([0.0, 1.05])\n",
    "    ax[i].set_xlabel('recall')\n",
    "    ax[i].set_ylabel('precision')\n",
    "    ax[i].set_title(label_list[i])\n",
    "    ax[i].legend(loc=\"lower right\")\n",
    "    \n",
    "    "
   ]
  },
  {
   "cell_type": "markdown",
   "metadata": {
    "colab_type": "text",
    "id": "k-a2dtyc-tJl"
   },
   "source": []
  }
 ],
 "metadata": {
  "accelerator": "GPU",
  "colab": {
   "authorship_tag": "ABX9TyOSYnG7fkLO61vI9lrnrpEN",
   "collapsed_sections": [],
   "include_colab_link": true,
   "name": "COVID_REDUX.ipynb",
   "provenance": [],
   "toc_visible": true
  },
  "kernelspec": {
   "display_name": "Python 3",
   "language": "python",
   "name": "python3"
  },
  "language_info": {
   "codemirror_mode": {
    "name": "ipython",
    "version": 3
   },
   "file_extension": ".py",
   "mimetype": "text/x-python",
   "name": "python",
   "nbconvert_exporter": "python",
   "pygments_lexer": "ipython3",
   "version": "3.7.4"
  },
  "toc": {
   "base_numbering": 1,
   "nav_menu": {},
   "number_sections": true,
   "sideBar": true,
   "skip_h1_title": false,
   "title_cell": "Table of Contents",
   "title_sidebar": "Contents",
   "toc_cell": false,
   "toc_position": {
    "height": "314px",
    "left": "1075.38px",
    "top": "110px",
    "width": "345.625px"
   },
   "toc_section_display": true,
   "toc_window_display": true
  },
  "varInspector": {
   "cols": {
    "lenName": 16,
    "lenType": 16,
    "lenVar": 40
   },
   "kernels_config": {
    "python": {
     "delete_cmd_postfix": "",
     "delete_cmd_prefix": "del ",
     "library": "var_list.py",
     "varRefreshCmd": "print(var_dic_list())"
    },
    "r": {
     "delete_cmd_postfix": ") ",
     "delete_cmd_prefix": "rm(",
     "library": "var_list.r",
     "varRefreshCmd": "cat(var_dic_list()) "
    }
   },
   "types_to_exclude": [
    "module",
    "function",
    "builtin_function_or_method",
    "instance",
    "_Feature"
   ],
   "window_display": false
  }
 },
 "nbformat": 4,
 "nbformat_minor": 1
}
