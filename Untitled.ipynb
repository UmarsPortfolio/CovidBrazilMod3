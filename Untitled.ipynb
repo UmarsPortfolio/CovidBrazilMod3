{
 "cells": [
  {
   "cell_type": "code",
   "execution_count": null,
   "metadata": {},
   "outputs": [],
   "source": [
    "A report of cols \n",
    "\n",
    "cols_report = {}\n",
    "\n",
    "for column in df.columns:\n",
    "    stats = {}\n",
    "    stats['empty'] = sum(df[column].isna())\n",
    "    stats['empty%'] = round(sum(df[column].isna())/len(df[column])*100,4)\n",
    "    cols_report[column]=stats\n",
    "    \n",
    "pp= pp.PrettyPrinter(indent=4)\n",
    "pp.pprint(cols_report)"
   ]
  },
  {
   "cell_type": "code",
   "execution_count": null,
   "metadata": {},
   "outputs": [],
   "source": [
    "#High impact features from medical article\n",
    "\n",
    "high_imp= ['Lactic Dehydrogenase','Lymphocytes','Proteina C reativa mg/dL']\n",
    "df2 = df[high_imp]\n",
    "\n",
    "df2.info()"
   ]
  },
  {
   "cell_type": "code",
   "execution_count": null,
   "metadata": {},
   "outputs": [],
   "source": [
    "df_adm\n",
    "df_most_com_types = df_adm_feats[most_common_adm_feats].dtypes\n",
    "adm_obj_features = list(df_most_com_types[df_most_com_types== 'object'].index)\n",
    "print (obj_features)  \n",
    "print (adm_obj_features)"
   ]
  },
  {
   "cell_type": "code",
   "execution_count": null,
   "metadata": {},
   "outputs": [],
   "source": [
    "! git add .\n",
    "! git commit -m \"4/30 3 am\""
   ]
  }
 ],
 "metadata": {
  "kernelspec": {
   "display_name": "Python 3",
   "language": "python",
   "name": "python3"
  },
  "language_info": {
   "codemirror_mode": {
    "name": "ipython",
    "version": 3
   },
   "file_extension": ".py",
   "mimetype": "text/x-python",
   "name": "python",
   "nbconvert_exporter": "python",
   "pygments_lexer": "ipython3",
   "version": "3.7.4"
  },
  "toc": {
   "base_numbering": 1,
   "nav_menu": {},
   "number_sections": true,
   "sideBar": true,
   "skip_h1_title": false,
   "title_cell": "Table of Contents",
   "title_sidebar": "Contents",
   "toc_cell": false,
   "toc_position": {},
   "toc_section_display": true,
   "toc_window_display": false
  }
 },
 "nbformat": 4,
 "nbformat_minor": 2
}
